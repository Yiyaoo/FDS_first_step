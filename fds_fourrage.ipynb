{
  "nbformat": 4,
  "nbformat_minor": 0,
  "metadata": {
    "colab": {
      "provenance": [],
      "authorship_tag": "ABX9TyNLfpytW2AAhETW4/XxWZVM",
      "include_colab_link": true
    },
    "kernelspec": {
      "name": "python3",
      "display_name": "Python 3"
    },
    "language_info": {
      "name": "python"
    }
  },
  "cells": [
    {
      "cell_type": "markdown",
      "metadata": {
        "id": "view-in-github",
        "colab_type": "text"
      },
      "source": [
        "<a href=\"https://colab.research.google.com/github/Yiyaoo/FDS_first_step/blob/master/fds_fourrage.ipynb\" target=\"_parent\"><img src=\"https://colab.research.google.com/assets/colab-badge.svg\" alt=\"Open In Colab\"/></a>"
      ]
    },
    {
      "cell_type": "code",
      "execution_count": 55,
      "metadata": {
        "id": "fCnXdcasAKr6"
      },
      "outputs": [],
      "source": [
        "import pandas as pd\n",
        "import numpy as np\n",
        "import io\n",
        "import glob\n"
      ]
    },
    {
      "cell_type": "code",
      "source": [
        "import requests\n",
        "#read files from github\n",
        "url=\"https://raw.githubusercontent.com/Yiyaoo/FDS_first_step/master/FDS_Fourrage/FDS_FOURRAGE_2000.csv\"\n",
        "s=requests.get(url).content\n",
        "c=pd.read_csv(io.StringIO(s.decode('utf-8')),sep=';')"
      ],
      "metadata": {
        "id": "RVc7FN4IsMxf"
      },
      "execution_count": 56,
      "outputs": []
    },
    {
      "cell_type": "code",
      "source": [
        "#read multiples files from github\n",
        "\n",
        "def read_multi_csv(start_year,end_year):\n",
        "    years = list(range(start_year,end_year+1))\n",
        "    dfs = []\n",
        "    for YYYY in years:\n",
        "        #file = 'https://raw.githubusercontent.com/username/project/main/data/normalized/'+str(YYYY)+'_crimes_byState.csv'\n",
        "        file = 'https://raw.githubusercontent.com/Yiyaoo/FDS_first_step/master/FDS_Fourrage/FDS_FOURRAGE_'+str(YYYY)+'.csv'\n",
        "        #print (file)\n",
        "        df = pd.read_csv(file,sep=';')\n",
        "        dfs.append(df)\n",
        "    all_dfs = pd.concat(dfs)\n",
        "    return all_dfs\n",
        "\n",
        "df=read_multi_csv(2000,2020)"
      ],
      "metadata": {
        "id": "dzNbfC6h2rGq"
      },
      "execution_count": 57,
      "outputs": []
    },
    {
      "cell_type": "code",
      "source": [
        "result = df.dtypes\n",
        "print(result)"
      ],
      "metadata": {
        "colab": {
          "base_uri": "https://localhost:8080/"
        },
        "id": "F-9pMk8pg1gZ",
        "outputId": "f4dd55ea-be20-4121-9a6c-372f0a3a4dbd"
      },
      "execution_count": null,
      "outputs": [
        {
          "output_type": "stream",
          "name": "stdout",
          "text": [
            "NOM          object\n",
            "ANNREF        int64\n",
            "FRANCE       object\n",
            "FRDOM        object\n",
            "REGION       object\n",
            "DEP          object\n",
            "N306         object\n",
            "N306_MOD     object\n",
            "N306_LIB     object\n",
            "N027         object\n",
            "N027_MOD    float64\n",
            "N027_LIB     object\n",
            "VALEUR      float64\n",
            "QUALITE      object\n",
            "dtype: object\n"
          ]
        }
      ]
    },
    {
      "cell_type": "code",
      "source": [
        "df.isna().sum()"
      ],
      "metadata": {
        "colab": {
          "base_uri": "https://localhost:8080/"
        },
        "id": "_gFQK5D7hqzC",
        "outputId": "14456d31-a6d6-41c4-b544-ab032c26cf58"
      },
      "execution_count": null,
      "outputs": [
        {
          "output_type": "execute_result",
          "data": {
            "text/plain": [
              "NOM            0\n",
              "ANNREF         0\n",
              "FRANCE         0\n",
              "FRDOM          0\n",
              "REGION         0\n",
              "DEP            0\n",
              "N306           0\n",
              "N306_MOD       0\n",
              "N306_LIB       0\n",
              "N027           0\n",
              "N027_MOD       0\n",
              "N027_LIB       0\n",
              "VALEUR      5434\n",
              "QUALITE        0\n",
              "dtype: int64"
            ]
          },
          "metadata": {},
          "execution_count": 8
        }
      ]
    },
    {
      "cell_type": "code",
      "source": [
        "#données manquantes par type de culture et par année\n",
        "df_rend=df[(df.N027_MOD==70.02)]\n",
        "df_rend['VALEUR'].isnull().groupby(df_rend.N306_LIB).sum()"
      ],
      "metadata": {
        "colab": {
          "base_uri": "https://localhost:8080/"
        },
        "id": "IgeFZNhTBc42",
        "outputId": "abb16c38-3f13-42d1-f978-562f1146cea9"
      },
      "execution_count": null,
      "outputs": [
        {
          "output_type": "execute_result",
          "data": {
            "text/plain": [
              "N306_LIB\n",
              "Autres fourrages annuels, n.c.a.                                            605\n",
              "Autres prairies artificielles                                                12\n",
              "Fourrages annuels                                                          2336\n",
              "Fourrages annuels, prairies non permanentes et STH                         2446\n",
              "Luzerne pour déhydratation                                                    0\n",
              "Maïs fourrage et ensilage (plante entière)                                    0\n",
              "Maïs fourrage et ensilage (plante entière) irrigué                            0\n",
              "Maïs fourrage et ensilage (plante entière) non irrigué                       35\n",
              "Prairie artificielle (luzerne, trèfle violet, ...)                            0\n",
              "Prairies naturelles ou semées depuis plus de 6 ans                            0\n",
              "Prairies non permanentes                                                      0\n",
              "Prairies non permanentes et STH                                               0\n",
              "Prairies temporaires                                                          0\n",
              "STH (Superficies toujours en herbe) peu productives (pâturages pauvres)       0\n",
              "Superficie toujours en herbe (STH)                                            0\n",
              "Name: VALEUR, dtype: int64"
            ]
          },
          "metadata": {},
          "execution_count": 5
        }
      ]
    },
    {
      "cell_type": "code",
      "source": [
        "df_rend['VALEUR'].isnull().groupby(df_rend.ANNREF).sum()"
      ],
      "metadata": {
        "colab": {
          "base_uri": "https://localhost:8080/"
        },
        "id": "0awcruBvpO4v",
        "outputId": "f39825e1-5a40-40d0-a443-93ce18773683"
      },
      "execution_count": null,
      "outputs": [
        {
          "output_type": "execute_result",
          "data": {
            "text/plain": [
              "ANNREF\n",
              "2000    216\n",
              "2001    216\n",
              "2002    216\n",
              "2003    216\n",
              "2004    216\n",
              "2005    215\n",
              "2006    216\n",
              "2007    230\n",
              "2008    231\n",
              "2009    230\n",
              "2010    232\n",
              "2011    236\n",
              "2012    234\n",
              "2013    238\n",
              "2014    239\n",
              "2015    238\n",
              "2016    363\n",
              "2017    363\n",
              "2018    363\n",
              "2019    363\n",
              "2020    363\n",
              "Name: VALEUR, dtype: int64"
            ]
          },
          "metadata": {},
          "execution_count": 180
        }
      ]
    },
    {
      "cell_type": "code",
      "source": [
        "#données semblant anormales / type de culture\n",
        "#df.groupby(df.N306_LIB).describe()['VALEUR']\n",
        "df_rend.groupby(df_rend.N306_LIB).describe()['VALEUR']"
      ],
      "metadata": {
        "colab": {
          "base_uri": "https://localhost:8080/",
          "height": 551
        },
        "id": "oCrVCTZDJ3US",
        "outputId": "72e337f2-51cb-45e2-fdca-76bb2ee6e8e6"
      },
      "execution_count": null,
      "outputs": [
        {
          "output_type": "execute_result",
          "data": {
            "text/plain": [
              "                                                     count        mean  \\\n",
              "N306_LIB                                                                 \n",
              "Autres fourrages annuels, n.c.a.                       0.0         NaN   \n",
              "Autres prairies artificielles                       2347.0   81.279591   \n",
              "Fourrages annuels                                      0.0         NaN   \n",
              "Fourrages annuels, prairies non permanentes et STH     0.0         NaN   \n",
              "Luzerne pour déhydratation                          1080.0   62.844537   \n",
              "Maïs fourrage et ensilage (plante entière)          2336.0  108.860445   \n",
              "Maïs fourrage et ensilage (plante entière) irrigué  1301.0  107.211991   \n",
              "Maïs fourrage et ensilage (plante entière) non ...  2301.0  105.264841   \n",
              "Prairie artificielle (luzerne, trèfle violet, ...)  2359.0   81.182705   \n",
              "Prairies naturelles ou semées depuis plus de 6 ans  2420.0   48.889587   \n",
              "Prairies non permanentes                            2388.0   72.863149   \n",
              "Prairies non permanentes et STH                     2438.0   48.086300   \n",
              "Prairies temporaires                                2384.0   69.656334   \n",
              "STH (Superficies toujours en herbe) peu product...  2420.0   18.029132   \n",
              "Superficie toujours en herbe (STH)                  2438.0   41.473298   \n",
              "\n",
              "                                                          std  min     25%  \\\n",
              "N306_LIB                                                                     \n",
              "Autres fourrages annuels, n.c.a.                          NaN  NaN     NaN   \n",
              "Autres prairies artificielles                       42.523051  0.0  65.000   \n",
              "Fourrages annuels                                         NaN  NaN     NaN   \n",
              "Fourrages annuels, prairies non permanentes et STH        NaN  NaN     NaN   \n",
              "Luzerne pour déhydratation                          47.837760  0.0   0.000   \n",
              "Maïs fourrage et ensilage (plante entière)          31.572925  0.0  91.075   \n",
              "Maïs fourrage et ensilage (plante entière) irrigué  56.262788  0.0  86.000   \n",
              "Maïs fourrage et ensilage (plante entière) non ...  34.465417  0.0  88.000   \n",
              "Prairie artificielle (luzerne, trèfle violet, ...)  27.548312  0.0  67.000   \n",
              "Prairies naturelles ou semées depuis plus de 6 ans  17.041364  0.0  39.000   \n",
              "Prairies non permanentes                            24.140091  0.0  59.100   \n",
              "Prairies non permanentes et STH                     21.548541  0.0  35.600   \n",
              "Prairies temporaires                                23.418735  0.0  56.275   \n",
              "STH (Superficies toujours en herbe) peu product...   9.473877  0.0  10.000   \n",
              "Superficie toujours en herbe (STH)                  19.641420  0.0  30.100   \n",
              "\n",
              "                                                       50%      75%     max  \n",
              "N306_LIB                                                                     \n",
              "Autres fourrages annuels, n.c.a.                       NaN      NaN     NaN  \n",
              "Autres prairies artificielles                        80.00   97.000  1380.0  \n",
              "Fourrages annuels                                      NaN      NaN     NaN  \n",
              "Fourrages annuels, prairies non permanentes et STH     NaN      NaN     NaN  \n",
              "Luzerne pour déhydratation                           80.00  101.100   180.0  \n",
              "Maïs fourrage et ensilage (plante entière)          114.10  130.000   190.0  \n",
              "Maïs fourrage et ensilage (plante entière) irrigué  123.00  147.900   211.1  \n",
              "Maïs fourrage et ensilage (plante entière) non ...  110.00  130.000   190.0  \n",
              "Prairie artificielle (luzerne, trèfle violet, ...)   82.00   98.000   180.0  \n",
              "Prairies naturelles ou semées depuis plus de 6 ans   49.25   59.800   132.0  \n",
              "Prairies non permanentes                             71.00   85.500   174.8  \n",
              "Prairies non permanentes et STH                      49.90   61.800   136.6  \n",
              "Prairies temporaires                                 68.00   81.000   175.0  \n",
              "STH (Superficies toujours en herbe) peu product...   18.00   24.725    70.0  \n",
              "Superficie toujours en herbe (STH)                   42.50   54.700   130.5  "
            ],
            "text/html": [
              "\n",
              "  <div id=\"df-92d44dca-217e-4a38-bc21-ae13a04008c6\">\n",
              "    <div class=\"colab-df-container\">\n",
              "      <div>\n",
              "<style scoped>\n",
              "    .dataframe tbody tr th:only-of-type {\n",
              "        vertical-align: middle;\n",
              "    }\n",
              "\n",
              "    .dataframe tbody tr th {\n",
              "        vertical-align: top;\n",
              "    }\n",
              "\n",
              "    .dataframe thead th {\n",
              "        text-align: right;\n",
              "    }\n",
              "</style>\n",
              "<table border=\"1\" class=\"dataframe\">\n",
              "  <thead>\n",
              "    <tr style=\"text-align: right;\">\n",
              "      <th></th>\n",
              "      <th>count</th>\n",
              "      <th>mean</th>\n",
              "      <th>std</th>\n",
              "      <th>min</th>\n",
              "      <th>25%</th>\n",
              "      <th>50%</th>\n",
              "      <th>75%</th>\n",
              "      <th>max</th>\n",
              "    </tr>\n",
              "    <tr>\n",
              "      <th>N306_LIB</th>\n",
              "      <th></th>\n",
              "      <th></th>\n",
              "      <th></th>\n",
              "      <th></th>\n",
              "      <th></th>\n",
              "      <th></th>\n",
              "      <th></th>\n",
              "      <th></th>\n",
              "    </tr>\n",
              "  </thead>\n",
              "  <tbody>\n",
              "    <tr>\n",
              "      <th>Autres fourrages annuels, n.c.a.</th>\n",
              "      <td>0.0</td>\n",
              "      <td>NaN</td>\n",
              "      <td>NaN</td>\n",
              "      <td>NaN</td>\n",
              "      <td>NaN</td>\n",
              "      <td>NaN</td>\n",
              "      <td>NaN</td>\n",
              "      <td>NaN</td>\n",
              "    </tr>\n",
              "    <tr>\n",
              "      <th>Autres prairies artificielles</th>\n",
              "      <td>2347.0</td>\n",
              "      <td>81.279591</td>\n",
              "      <td>42.523051</td>\n",
              "      <td>0.0</td>\n",
              "      <td>65.000</td>\n",
              "      <td>80.00</td>\n",
              "      <td>97.000</td>\n",
              "      <td>1380.0</td>\n",
              "    </tr>\n",
              "    <tr>\n",
              "      <th>Fourrages annuels</th>\n",
              "      <td>0.0</td>\n",
              "      <td>NaN</td>\n",
              "      <td>NaN</td>\n",
              "      <td>NaN</td>\n",
              "      <td>NaN</td>\n",
              "      <td>NaN</td>\n",
              "      <td>NaN</td>\n",
              "      <td>NaN</td>\n",
              "    </tr>\n",
              "    <tr>\n",
              "      <th>Fourrages annuels, prairies non permanentes et STH</th>\n",
              "      <td>0.0</td>\n",
              "      <td>NaN</td>\n",
              "      <td>NaN</td>\n",
              "      <td>NaN</td>\n",
              "      <td>NaN</td>\n",
              "      <td>NaN</td>\n",
              "      <td>NaN</td>\n",
              "      <td>NaN</td>\n",
              "    </tr>\n",
              "    <tr>\n",
              "      <th>Luzerne pour déhydratation</th>\n",
              "      <td>1080.0</td>\n",
              "      <td>62.844537</td>\n",
              "      <td>47.837760</td>\n",
              "      <td>0.0</td>\n",
              "      <td>0.000</td>\n",
              "      <td>80.00</td>\n",
              "      <td>101.100</td>\n",
              "      <td>180.0</td>\n",
              "    </tr>\n",
              "    <tr>\n",
              "      <th>Maïs fourrage et ensilage (plante entière)</th>\n",
              "      <td>2336.0</td>\n",
              "      <td>108.860445</td>\n",
              "      <td>31.572925</td>\n",
              "      <td>0.0</td>\n",
              "      <td>91.075</td>\n",
              "      <td>114.10</td>\n",
              "      <td>130.000</td>\n",
              "      <td>190.0</td>\n",
              "    </tr>\n",
              "    <tr>\n",
              "      <th>Maïs fourrage et ensilage (plante entière) irrigué</th>\n",
              "      <td>1301.0</td>\n",
              "      <td>107.211991</td>\n",
              "      <td>56.262788</td>\n",
              "      <td>0.0</td>\n",
              "      <td>86.000</td>\n",
              "      <td>123.00</td>\n",
              "      <td>147.900</td>\n",
              "      <td>211.1</td>\n",
              "    </tr>\n",
              "    <tr>\n",
              "      <th>Maïs fourrage et ensilage (plante entière) non irrigué</th>\n",
              "      <td>2301.0</td>\n",
              "      <td>105.264841</td>\n",
              "      <td>34.465417</td>\n",
              "      <td>0.0</td>\n",
              "      <td>88.000</td>\n",
              "      <td>110.00</td>\n",
              "      <td>130.000</td>\n",
              "      <td>190.0</td>\n",
              "    </tr>\n",
              "    <tr>\n",
              "      <th>Prairie artificielle (luzerne, trèfle violet, ...)</th>\n",
              "      <td>2359.0</td>\n",
              "      <td>81.182705</td>\n",
              "      <td>27.548312</td>\n",
              "      <td>0.0</td>\n",
              "      <td>67.000</td>\n",
              "      <td>82.00</td>\n",
              "      <td>98.000</td>\n",
              "      <td>180.0</td>\n",
              "    </tr>\n",
              "    <tr>\n",
              "      <th>Prairies naturelles ou semées depuis plus de 6 ans</th>\n",
              "      <td>2420.0</td>\n",
              "      <td>48.889587</td>\n",
              "      <td>17.041364</td>\n",
              "      <td>0.0</td>\n",
              "      <td>39.000</td>\n",
              "      <td>49.25</td>\n",
              "      <td>59.800</td>\n",
              "      <td>132.0</td>\n",
              "    </tr>\n",
              "    <tr>\n",
              "      <th>Prairies non permanentes</th>\n",
              "      <td>2388.0</td>\n",
              "      <td>72.863149</td>\n",
              "      <td>24.140091</td>\n",
              "      <td>0.0</td>\n",
              "      <td>59.100</td>\n",
              "      <td>71.00</td>\n",
              "      <td>85.500</td>\n",
              "      <td>174.8</td>\n",
              "    </tr>\n",
              "    <tr>\n",
              "      <th>Prairies non permanentes et STH</th>\n",
              "      <td>2438.0</td>\n",
              "      <td>48.086300</td>\n",
              "      <td>21.548541</td>\n",
              "      <td>0.0</td>\n",
              "      <td>35.600</td>\n",
              "      <td>49.90</td>\n",
              "      <td>61.800</td>\n",
              "      <td>136.6</td>\n",
              "    </tr>\n",
              "    <tr>\n",
              "      <th>Prairies temporaires</th>\n",
              "      <td>2384.0</td>\n",
              "      <td>69.656334</td>\n",
              "      <td>23.418735</td>\n",
              "      <td>0.0</td>\n",
              "      <td>56.275</td>\n",
              "      <td>68.00</td>\n",
              "      <td>81.000</td>\n",
              "      <td>175.0</td>\n",
              "    </tr>\n",
              "    <tr>\n",
              "      <th>STH (Superficies toujours en herbe) peu productives (pâturages pauvres)</th>\n",
              "      <td>2420.0</td>\n",
              "      <td>18.029132</td>\n",
              "      <td>9.473877</td>\n",
              "      <td>0.0</td>\n",
              "      <td>10.000</td>\n",
              "      <td>18.00</td>\n",
              "      <td>24.725</td>\n",
              "      <td>70.0</td>\n",
              "    </tr>\n",
              "    <tr>\n",
              "      <th>Superficie toujours en herbe (STH)</th>\n",
              "      <td>2438.0</td>\n",
              "      <td>41.473298</td>\n",
              "      <td>19.641420</td>\n",
              "      <td>0.0</td>\n",
              "      <td>30.100</td>\n",
              "      <td>42.50</td>\n",
              "      <td>54.700</td>\n",
              "      <td>130.5</td>\n",
              "    </tr>\n",
              "  </tbody>\n",
              "</table>\n",
              "</div>\n",
              "      <button class=\"colab-df-convert\" onclick=\"convertToInteractive('df-92d44dca-217e-4a38-bc21-ae13a04008c6')\"\n",
              "              title=\"Convert this dataframe to an interactive table.\"\n",
              "              style=\"display:none;\">\n",
              "        \n",
              "  <svg xmlns=\"http://www.w3.org/2000/svg\" height=\"24px\"viewBox=\"0 0 24 24\"\n",
              "       width=\"24px\">\n",
              "    <path d=\"M0 0h24v24H0V0z\" fill=\"none\"/>\n",
              "    <path d=\"M18.56 5.44l.94 2.06.94-2.06 2.06-.94-2.06-.94-.94-2.06-.94 2.06-2.06.94zm-11 1L8.5 8.5l.94-2.06 2.06-.94-2.06-.94L8.5 2.5l-.94 2.06-2.06.94zm10 10l.94 2.06.94-2.06 2.06-.94-2.06-.94-.94-2.06-.94 2.06-2.06.94z\"/><path d=\"M17.41 7.96l-1.37-1.37c-.4-.4-.92-.59-1.43-.59-.52 0-1.04.2-1.43.59L10.3 9.45l-7.72 7.72c-.78.78-.78 2.05 0 2.83L4 21.41c.39.39.9.59 1.41.59.51 0 1.02-.2 1.41-.59l7.78-7.78 2.81-2.81c.8-.78.8-2.07 0-2.86zM5.41 20L4 18.59l7.72-7.72 1.47 1.35L5.41 20z\"/>\n",
              "  </svg>\n",
              "      </button>\n",
              "      \n",
              "  <style>\n",
              "    .colab-df-container {\n",
              "      display:flex;\n",
              "      flex-wrap:wrap;\n",
              "      gap: 12px;\n",
              "    }\n",
              "\n",
              "    .colab-df-convert {\n",
              "      background-color: #E8F0FE;\n",
              "      border: none;\n",
              "      border-radius: 50%;\n",
              "      cursor: pointer;\n",
              "      display: none;\n",
              "      fill: #1967D2;\n",
              "      height: 32px;\n",
              "      padding: 0 0 0 0;\n",
              "      width: 32px;\n",
              "    }\n",
              "\n",
              "    .colab-df-convert:hover {\n",
              "      background-color: #E2EBFA;\n",
              "      box-shadow: 0px 1px 2px rgba(60, 64, 67, 0.3), 0px 1px 3px 1px rgba(60, 64, 67, 0.15);\n",
              "      fill: #174EA6;\n",
              "    }\n",
              "\n",
              "    [theme=dark] .colab-df-convert {\n",
              "      background-color: #3B4455;\n",
              "      fill: #D2E3FC;\n",
              "    }\n",
              "\n",
              "    [theme=dark] .colab-df-convert:hover {\n",
              "      background-color: #434B5C;\n",
              "      box-shadow: 0px 1px 3px 1px rgba(0, 0, 0, 0.15);\n",
              "      filter: drop-shadow(0px 1px 2px rgba(0, 0, 0, 0.3));\n",
              "      fill: #FFFFFF;\n",
              "    }\n",
              "  </style>\n",
              "\n",
              "      <script>\n",
              "        const buttonEl =\n",
              "          document.querySelector('#df-92d44dca-217e-4a38-bc21-ae13a04008c6 button.colab-df-convert');\n",
              "        buttonEl.style.display =\n",
              "          google.colab.kernel.accessAllowed ? 'block' : 'none';\n",
              "\n",
              "        async function convertToInteractive(key) {\n",
              "          const element = document.querySelector('#df-92d44dca-217e-4a38-bc21-ae13a04008c6');\n",
              "          const dataTable =\n",
              "            await google.colab.kernel.invokeFunction('convertToInteractive',\n",
              "                                                     [key], {});\n",
              "          if (!dataTable) return;\n",
              "\n",
              "          const docLinkHtml = 'Like what you see? Visit the ' +\n",
              "            '<a target=\"_blank\" href=https://colab.research.google.com/notebooks/data_table.ipynb>data table notebook</a>'\n",
              "            + ' to learn more about interactive tables.';\n",
              "          element.innerHTML = '';\n",
              "          dataTable['output_type'] = 'display_data';\n",
              "          await google.colab.output.renderOutput(dataTable, element);\n",
              "          const docLink = document.createElement('div');\n",
              "          docLink.innerHTML = docLinkHtml;\n",
              "          element.appendChild(docLink);\n",
              "        }\n",
              "      </script>\n",
              "    </div>\n",
              "  </div>\n",
              "  "
            ]
          },
          "metadata": {},
          "execution_count": 11
        }
      ]
    },
    {
      "cell_type": "code",
      "source": [
        "#df.where(df['N027_MOD']=='070.02')\n",
        "df_pr_tem=df[(df.N306_MOD=='3.12.1.12')&(df.N027_MOD==70.02)]"
      ],
      "metadata": {
        "id": "5Ejd9ReocZfd"
      },
      "execution_count": null,
      "outputs": []
    },
    {
      "cell_type": "code",
      "source": [
        "#prairie temporaire pour département aude\n",
        "df_pr_tem_dep_aude=df[(df.N306_MOD=='3.12.1.12')&(df.DEP=='11')&(df.N027_MOD==70.02)]"
      ],
      "metadata": {
        "id": "Iwi9xhlJw4HF"
      },
      "execution_count": null,
      "outputs": []
    },
    {
      "cell_type": "code",
      "source": [
        "import pandas as pd\n",
        "from matplotlib import pyplot as plt\n",
        "\n",
        "df_pr_tem_dep_aude = df_pr_tem_dep_aude.astype({'ANNREF':'string'})\n",
        "\n",
        "plt.plot(df_pr_tem_dep_aude.ANNREF, df_pr_tem_dep_aude.VALEUR)\n",
        "plt.show()"
      ],
      "metadata": {
        "colab": {
          "base_uri": "https://localhost:8080/",
          "height": 357
        },
        "id": "sJw2gsgIxOK6",
        "outputId": "db435b08-a18b-4165-90b6-73cd9d902558"
      },
      "execution_count": null,
      "outputs": [
        {
          "output_type": "display_data",
          "data": {
            "text/plain": [
              "<Figure size 700x350 with 1 Axes>"
            ],
            "image/png": "[encoded data removed]"
          },
          "metadata": {}
        }
      ]
    },
    {
      "cell_type": "code",
      "source": [
        "import plotly.express as px\n",
        "import pandas as pd\n",
        "\n",
        "\n",
        "#fig = px.line(df_pr_tem_dep_aude,x=df_pr_tem_dep_aude.ANNREF, y=df_pr_tem_dep_aude.VALEUR,\n",
        "#             title=\"Historique des données de rendement (2000-2020) en prairie temporaire pour le département de l'aude\",\n",
        "#             text=\"VALEUR\")\n",
        "fig = px.line(df_pr_tem_dep_aude,x=df_pr_tem_dep_aude.ANNREF, y=df_pr_tem_dep_aude.VALEUR,\n",
        "              title=\"Historique des données de rendement (2000-2020) en prairie temporaire pour le département de l'aude\")\n",
        "\n",
        "fig.show()"
      ],
      "metadata": {
        "colab": {
          "base_uri": "https://localhost:8080/",
          "height": 542
        },
        "id": "73wf5qD46XUD",
        "outputId": "65e67ea7-953d-440d-c52c-fa3c624c1084"
      },
      "execution_count": null,
      "outputs": [
        {
          "output_type": "display_data",
          "data": {
            "text/html": [
              "<html>\n",
              "<head><meta charset=\"utf-8\" /></head>\n",
              "<body>\n",
              "    <div>            <script src=\"https://cdnjs.cloudflare.com/ajax/libs/mathjax/2.7.5/MathJax.js?config=TeX-AMS-MML_SVG\"></script><script type=\"text/javascript\">if (window.MathJax && window.MathJax.Hub && window.MathJax.Hub.Config) {window.MathJax.Hub.Config({SVG: {font: \"STIX-Web\"}});}</script>                <script type=\"text/javascript\">window.PlotlyConfig = {MathJaxConfig: 'local'};</script>\n",
              "        <script src=\"https://cdn.plot.ly/plotly-2.18.2.min.js\"></script>                <div id=\"b8ee936c-2572-4e44-9f95-11a9abd20509\" class=\"plotly-graph-div\" style=\"height:525px; width:100%;\"></div>            <script type=\"text/javascript\">                                    window.PLOTLYENV=window.PLOTLYENV || {};                                    if (document.getElementById(\"b8ee936c-2572-4e44-9f95-11a9abd20509\")) {                    Plotly.newPlot(                        \"b8ee936c-2572-4e44-9f95-11a9abd20509\",                        [{\"hovertemplate\":\"ANNREF=%{x}<br>VALEUR=%{y}<extra></extra>\",\"legendgroup\":\"\",\"line\":{\"color\":\"#636efa\",\"dash\":\"solid\"},\"marker\":{\"symbol\":\"circle\"},\"mode\":\"lines\",\"name\":\"\",\"orientation\":\"v\",\"showlegend\":false,\"x\":[\"2000\",\"2001\",\"2002\",\"2003\",\"2004\",\"2005\",\"2006\",\"2007\",\"2008\",\"2009\",\"2010\",\"2011\",\"2012\",\"2013\",\"2014\",\"2015\",\"2016\",\"2017\",\"2018\",\"2019\",\"2020\"],\"xaxis\":\"x\",\"y\":[41.0,47.0,55.0,34.0,36.0,36.0,30.0,41.0,45.0,37.0,44.0,38.0,41.0,45.5,49.6,31.9,35.6,28.5,44.2,24.4,42.3],\"yaxis\":\"y\",\"type\":\"scatter\"}],                        {\"template\":{\"data\":{\"histogram2dcontour\":[{\"type\":\"histogram2dcontour\",\"colorbar\":{\"outlinewidth\":0,\"ticks\":\"\"},\"colorscale\":[[0.0,\"#0d0887\"],[0.1111111111111111,\"#46039f\"],[0.2222222222222222,\"#7201a8\"],[0.3333333333333333,\"#9c179e\"],[0.4444444444444444,\"#bd3786\"],[0.5555555555555556,\"#d8576b\"],[0.6666666666666666,\"#ed7953\"],[0.7777777777777778,\"#fb9f3a\"],[0.8888888888888888,\"#fdca26\"],[1.0,\"#f0f921\"]]}],\"choropleth\":[{\"type\":\"choropleth\",\"colorbar\":{\"outlinewidth\":0,\"ticks\":\"\"}}],\"histogram2d\":[{\"type\":\"histogram2d\",\"colorbar\":{\"outlinewidth\":0,\"ticks\":\"\"},\"colorscale\":[[0.0,\"#0d0887\"],[0.1111111111111111,\"#46039f\"],[0.2222222222222222,\"#7201a8\"],[0.3333333333333333,\"#9c179e\"],[0.4444444444444444,\"#bd3786\"],[0.5555555555555556,\"#d8576b\"],[0.6666666666666666,\"#ed7953\"],[0.7777777777777778,\"#fb9f3a\"],[0.8888888888888888,\"#fdca26\"],[1.0,\"#f0f921\"]]}],\"heatmap\":[{\"type\":\"heatmap\",\"colorbar\":{\"outlinewidth\":0,\"ticks\":\"\"},\"colorscale\":[[0.0,\"#0d0887\"],[0.1111111111111111,\"#46039f\"],[0.2222222222222222,\"#7201a8\"],[0.3333333333333333,\"#9c179e\"],[0.4444444444444444,\"#bd3786\"],[0.5555555555555556,\"#d8576b\"],[0.6666666666666666,\"#ed7953\"],[0.7777777777777778,\"#fb9f3a\"],[0.8888888888888888,\"#fdca26\"],[1.0,\"#f0f921\"]]}],\"heatmapgl\":[{\"type\":\"heatmapgl\",\"colorbar\":{\"outlinewidth\":0,\"ticks\":\"\"},\"colorscale\":[[0.0,\"#0d0887\"],[0.1111111111111111,\"#46039f\"],[0.2222222222222222,\"#7201a8\"],[0.3333333333333333,\"#9c179e\"],[0.4444444444444444,\"#bd3786\"],[0.5555555555555556,\"#d8576b\"],[0.6666666666666666,\"#ed7953\"],[0.7777777777777778,\"#fb9f3a\"],[0.8888888888888888,\"#fdca26\"],[1.0,\"#f0f921\"]]}],\"contourcarpet\":[{\"type\":\"contourcarpet\",\"colorbar\":{\"outlinewidth\":0,\"ticks\":\"\"}}],\"contour\":[{\"type\":\"contour\",\"colorbar\":{\"outlinewidth\":0,\"ticks\":\"\"},\"colorscale\":[[0.0,\"#0d0887\"],[0.1111111111111111,\"#46039f\"],[0.2222222222222222,\"#7201a8\"],[0.3333333333333333,\"#9c179e\"],[0.4444444444444444,\"#bd3786\"],[0.5555555555555556,\"#d8576b\"],[0.6666666666666666,\"#ed7953\"],[0.7777777777777778,\"#fb9f3a\"],[0.8888888888888888,\"#fdca26\"],[1.0,\"#f0f921\"]]}],\"surface\":[{\"type\":\"surface\",\"colorbar\":{\"outlinewidth\":0,\"ticks\":\"\"},\"colorscale\":[[0.0,\"#0d0887\"],[0.1111111111111111,\"#46039f\"],[0.2222222222222222,\"#7201a8\"],[0.3333333333333333,\"#9c179e\"],[0.4444444444444444,\"#bd3786\"],[0.5555555555555556,\"#d8576b\"],[0.6666666666666666,\"#ed7953\"],[0.7777777777777778,\"#fb9f3a\"],[0.8888888888888888,\"#fdca26\"],[1.0,\"#f0f921\"]]}],\"mesh3d\":[{\"type\":\"mesh3d\",\"colorbar\":{\"outlinewidth\":0,\"ticks\":\"\"}}],\"scatter\":[{\"fillpattern\":{\"fillmode\":\"overlay\",\"size\":10,\"solidity\":0.2},\"type\":\"scatter\"}],\"parcoords\":[{\"type\":\"parcoords\",\"line\":{\"colorbar\":{\"outlinewidth\":0,\"ticks\":\"\"}}}],\"scatterpolargl\":[{\"type\":\"scatterpolargl\",\"marker\":{\"colorbar\":{\"outlinewidth\":0,\"ticks\":\"\"}}}],\"bar\":[{\"error_x\":{\"color\":\"#2a3f5f\"},\"error_y\":{\"color\":\"#2a3f5f\"},\"marker\":{\"line\":{\"color\":\"#E5ECF6\",\"width\":0.5},\"pattern\":{\"fillmode\":\"overlay\",\"size\":10,\"solidity\":0.2}},\"type\":\"bar\"}],\"scattergeo\":[{\"type\":\"scattergeo\",\"marker\":{\"colorbar\":{\"outlinewidth\":0,\"ticks\":\"\"}}}],\"scatterpolar\":[{\"type\":\"scatterpolar\",\"marker\":{\"colorbar\":{\"outlinewidth\":0,\"ticks\":\"\"}}}],\"histogram\":[{\"marker\":{\"pattern\":{\"fillmode\":\"overlay\",\"size\":10,\"solidity\":0.2}},\"type\":\"histogram\"}],\"scattergl\":[{\"type\":\"scattergl\",\"marker\":{\"colorbar\":{\"outlinewidth\":0,\"ticks\":\"\"}}}],\"scatter3d\":[{\"type\":\"scatter3d\",\"line\":{\"colorbar\":{\"outlinewidth\":0,\"ticks\":\"\"}},\"marker\":{\"colorbar\":{\"outlinewidth\":0,\"ticks\":\"\"}}}],\"scattermapbox\":[{\"type\":\"scattermapbox\",\"marker\":{\"colorbar\":{\"outlinewidth\":0,\"ticks\":\"\"}}}],\"scatterternary\":[{\"type\":\"scatterternary\",\"marker\":{\"colorbar\":{\"outlinewidth\":0,\"ticks\":\"\"}}}],\"scattercarpet\":[{\"type\":\"scattercarpet\",\"marker\":{\"colorbar\":{\"outlinewidth\":0,\"ticks\":\"\"}}}],\"carpet\":[{\"aaxis\":{\"endlinecolor\":\"#2a3f5f\",\"gridcolor\":\"white\",\"linecolor\":\"white\",\"minorgridcolor\":\"white\",\"startlinecolor\":\"#2a3f5f\"},\"baxis\":{\"endlinecolor\":\"#2a3f5f\",\"gridcolor\":\"white\",\"linecolor\":\"white\",\"minorgridcolor\":\"white\",\"startlinecolor\":\"#2a3f5f\"},\"type\":\"carpet\"}],\"table\":[{\"cells\":{\"fill\":{\"color\":\"#EBF0F8\"},\"line\":{\"color\":\"white\"}},\"header\":{\"fill\":{\"color\":\"#C8D4E3\"},\"line\":{\"color\":\"white\"}},\"type\":\"table\"}],\"barpolar\":[{\"marker\":{\"line\":{\"color\":\"#E5ECF6\",\"width\":0.5},\"pattern\":{\"fillmode\":\"overlay\",\"size\":10,\"solidity\":0.2}},\"type\":\"barpolar\"}],\"pie\":[{\"automargin\":true,\"type\":\"pie\"}]},\"layout\":{\"autotypenumbers\":\"strict\",\"colorway\":[\"#636efa\",\"#EF553B\",\"#00cc96\",\"#ab63fa\",\"#FFA15A\",\"#19d3f3\",\"#FF6692\",\"#B6E880\",\"#FF97FF\",\"#FECB52\"],\"font\":{\"color\":\"#2a3f5f\"},\"hovermode\":\"closest\",\"hoverlabel\":{\"align\":\"left\"},\"paper_bgcolor\":\"white\",\"plot_bgcolor\":\"#E5ECF6\",\"polar\":{\"bgcolor\":\"#E5ECF6\",\"angularaxis\":{\"gridcolor\":\"white\",\"linecolor\":\"white\",\"ticks\":\"\"},\"radialaxis\":{\"gridcolor\":\"white\",\"linecolor\":\"white\",\"ticks\":\"\"}},\"ternary\":{\"bgcolor\":\"#E5ECF6\",\"aaxis\":{\"gridcolor\":\"white\",\"linecolor\":\"white\",\"ticks\":\"\"},\"baxis\":{\"gridcolor\":\"white\",\"linecolor\":\"white\",\"ticks\":\"\"},\"caxis\":{\"gridcolor\":\"white\",\"linecolor\":\"white\",\"ticks\":\"\"}},\"coloraxis\":{\"colorbar\":{\"outlinewidth\":0,\"ticks\":\"\"}},\"colorscale\":{\"sequential\":[[0.0,\"#0d0887\"],[0.1111111111111111,\"#46039f\"],[0.2222222222222222,\"#7201a8\"],[0.3333333333333333,\"#9c179e\"],[0.4444444444444444,\"#bd3786\"],[0.5555555555555556,\"#d8576b\"],[0.6666666666666666,\"#ed7953\"],[0.7777777777777778,\"#fb9f3a\"],[0.8888888888888888,\"#fdca26\"],[1.0,\"#f0f921\"]],\"sequentialminus\":[[0.0,\"#0d0887\"],[0.1111111111111111,\"#46039f\"],[0.2222222222222222,\"#7201a8\"],[0.3333333333333333,\"#9c179e\"],[0.4444444444444444,\"#bd3786\"],[0.5555555555555556,\"#d8576b\"],[0.6666666666666666,\"#ed7953\"],[0.7777777777777778,\"#fb9f3a\"],[0.8888888888888888,\"#fdca26\"],[1.0,\"#f0f921\"]],\"diverging\":[[0,\"#8e0152\"],[0.1,\"#c51b7d\"],[0.2,\"#de77ae\"],[0.3,\"#f1b6da\"],[0.4,\"#fde0ef\"],[0.5,\"#f7f7f7\"],[0.6,\"#e6f5d0\"],[0.7,\"#b8e186\"],[0.8,\"#7fbc41\"],[0.9,\"#4d9221\"],[1,\"#276419\"]]},\"xaxis\":{\"gridcolor\":\"white\",\"linecolor\":\"white\",\"ticks\":\"\",\"title\":{\"standoff\":15},\"zerolinecolor\":\"white\",\"automargin\":true,\"zerolinewidth\":2},\"yaxis\":{\"gridcolor\":\"white\",\"linecolor\":\"white\",\"ticks\":\"\",\"title\":{\"standoff\":15},\"zerolinecolor\":\"white\",\"automargin\":true,\"zerolinewidth\":2},\"scene\":{\"xaxis\":{\"backgroundcolor\":\"#E5ECF6\",\"gridcolor\":\"white\",\"linecolor\":\"white\",\"showbackground\":true,\"ticks\":\"\",\"zerolinecolor\":\"white\",\"gridwidth\":2},\"yaxis\":{\"backgroundcolor\":\"#E5ECF6\",\"gridcolor\":\"white\",\"linecolor\":\"white\",\"showbackground\":true,\"ticks\":\"\",\"zerolinecolor\":\"white\",\"gridwidth\":2},\"zaxis\":{\"backgroundcolor\":\"#E5ECF6\",\"gridcolor\":\"white\",\"linecolor\":\"white\",\"showbackground\":true,\"ticks\":\"\",\"zerolinecolor\":\"white\",\"gridwidth\":2}},\"shapedefaults\":{\"line\":{\"color\":\"#2a3f5f\"}},\"annotationdefaults\":{\"arrowcolor\":\"#2a3f5f\",\"arrowhead\":0,\"arrowwidth\":1},\"geo\":{\"bgcolor\":\"white\",\"landcolor\":\"#E5ECF6\",\"subunitcolor\":\"white\",\"showland\":true,\"showlakes\":true,\"lakecolor\":\"white\"},\"title\":{\"x\":0.05},\"mapbox\":{\"style\":\"light\"}}},\"xaxis\":{\"anchor\":\"y\",\"domain\":[0.0,1.0],\"title\":{\"text\":\"ANNREF\"}},\"yaxis\":{\"anchor\":\"x\",\"domain\":[0.0,1.0],\"title\":{\"text\":\"VALEUR\"}},\"legend\":{\"tracegroupgap\":0},\"title\":{\"text\":\"Historique des donn\\u00e9es de rendement (2000-2020) en prairie temporaire pour le d\\u00e9partement de l'aude\"}},                        {\"responsive\": true}                    ).then(function(){\n",
              "                            \n",
              "var gd = document.getElementById('b8ee936c-2572-4e44-9f95-11a9abd20509');\n",
              "var x = new MutationObserver(function (mutations, observer) {{\n",
              "        var display = window.getComputedStyle(gd).display;\n",
              "        if (!display || display === 'none') {{\n",
              "            console.log([gd, 'removed!']);\n",
              "            Plotly.purge(gd);\n",
              "            observer.disconnect();\n",
              "        }}\n",
              "}});\n",
              "\n",
              "// Listen for the removal of the full notebook cells\n",
              "var notebookContainer = gd.closest('#notebook-container');\n",
              "if (notebookContainer) {{\n",
              "    x.observe(notebookContainer, {childList: true});\n",
              "}}\n",
              "\n",
              "// Listen for the clearing of the current output cell\n",
              "var outputEl = gd.closest('.output');\n",
              "if (outputEl) {{\n",
              "    x.observe(outputEl, {childList: true});\n",
              "}}\n",
              "\n",
              "                        })                };                            </script>        </div>\n",
              "</body>\n",
              "</html>"
            ]
          },
          "metadata": {}
        }
      ]
    },
    {
      "cell_type": "code",
      "source": [
        "df.loc[df['DEP'] == '75', 'DEP'] = 'FR101'\n",
        "df.loc[df['DEP'] == '77', 'DEP'] = 'FR102'\n",
        "df.loc[df['DEP'] == '78', 'DEP'] = 'FR103'\n",
        "df.loc[df['DEP'] == '91', 'DEP'] = 'FR104'\n",
        "df.loc[df['DEP'] == '92', 'DEP'] = 'FR105'\n",
        "df.loc[df['DEP'] == '93', 'DEP'] = 'FR106'\n",
        "df.loc[df['DEP'] == '94', 'DEP'] = 'FR107'\n",
        "df.loc[df['DEP'] == '95', 'DEP'] = 'FR108'\n",
        "\n",
        "df.loc[df['DEP'] == '08', 'DEP'] = 'FRF21'\n",
        "df.loc[df['DEP'] == '10', 'DEP'] = 'FRF22'\n",
        "df.loc[df['DEP'] == '51', 'DEP'] = 'FRF23'\n",
        "df.loc[df['DEP'] == '52', 'DEP'] = 'FRF24'\n",
        "\n",
        "df.loc[df['DEP'] == '02', 'DEP'] = 'FRE21'\n",
        "df.loc[df['DEP'] == '60', 'DEP'] = 'FRE22'\n",
        "df.loc[df['DEP'] == '80', 'DEP'] = 'FRE23'\n",
        "\n",
        "df.loc[df['DEP'] == '27', 'DEP'] = 'FRD21 '\n",
        "df.loc[df['DEP'] == '76', 'DEP'] = 'FRD22'\n",
        "\n",
        "df.loc[df['DEP'] == '18', 'DEP'] = 'FRB01'\n",
        "df.loc[df['DEP'] == '28', 'DEP'] = 'FRB02'\n",
        "df.loc[df['DEP'] == '36', 'DEP'] = 'FRB03'\n",
        "df.loc[df['DEP'] == '37', 'DEP'] = 'FRB04'\n",
        "df.loc[df['DEP'] == '41', 'DEP'] = 'FRB05'\n",
        "df.loc[df['DEP'] == '45', 'DEP'] = 'FRB06'\n",
        "\n",
        "df.loc[df['DEP'] == '14', 'DEP'] = 'FRD11'\n",
        "df.loc[df['DEP'] == '50', 'DEP'] = 'FRD12'\n",
        "df.loc[df['DEP'] == '61', 'DEP'] = 'FRD13'\n",
        "\n",
        "df.loc[df['DEP'] == '21', 'DEP'] = 'FRC11'\n",
        "df.loc[df['DEP'] == '58', 'DEP'] = 'FRC12'\n",
        "df.loc[df['DEP'] == '71', 'DEP'] = 'FRC13'\n",
        "df.loc[df['DEP'] == '89', 'DEP'] = 'FRC14'\n",
        "\n",
        "df.loc[df['DEP'] == '59', 'DEP'] = 'FRE11'\n",
        "df.loc[df['DEP'] == '62', 'DEP'] = 'FRE12'\n",
        "\n",
        "df.loc[df['DEP'] == '54', 'DEP'] = 'FRF31'\n",
        "df.loc[df['DEP'] == '55', 'DEP'] = 'FRF32'\n",
        "df.loc[df['DEP'] == '57', 'DEP'] = 'FRF33'\n",
        "df.loc[df['DEP'] == '88', 'DEP'] = 'FRF34'\n",
        "\n",
        "df.loc[df['DEP'] == '67', 'DEP'] = 'FRF11'\n",
        "df.loc[df['DEP'] == '68', 'DEP'] = 'FRF12'\n",
        "\n",
        "df.loc[df['DEP'] == '25', 'DEP'] = 'FRC21'\n",
        "df.loc[df['DEP'] == '39', 'DEP'] = 'FRC22'\n",
        "df.loc[df['DEP'] == '70', 'DEP'] = 'FRC23'\n",
        "df.loc[df['DEP'] == '90', 'DEP'] = 'FRC24'\n",
        "\n",
        "df.loc[df['DEP'] == '44', 'DEP'] = 'FRG01'\n",
        "df.loc[df['DEP'] == '49', 'DEP'] = 'FRG02'\n",
        "df.loc[df['DEP'] == '53', 'DEP'] = 'FRG03'\n",
        "df.loc[df['DEP'] == '72', 'DEP'] = 'FRG04'\n",
        "df.loc[df['DEP'] == '85', 'DEP'] = 'FRG05'\n",
        "\n",
        "\n",
        "df.loc[df['DEP'] == '22', 'DEP'] = 'FRH01'\n",
        "df.loc[df['DEP'] == '29', 'DEP'] = 'FRH02'\n",
        "df.loc[df['DEP'] == '35', 'DEP'] = 'FRH03'\n",
        "df.loc[df['DEP'] == '56', 'DEP'] = 'FRH04'\n",
        "\n",
        "df.loc[df['DEP'] == '16', 'DEP'] = 'FRI31'\n",
        "df.loc[df['DEP'] == '17', 'DEP'] = 'FRI32'\n",
        "df.loc[df['DEP'] == '79', 'DEP'] = 'FRI33'\n",
        "df.loc[df['DEP'] == '86', 'DEP'] = 'FRI34'\n",
        "\n",
        "df.loc[df['DEP'] == '24', 'DEP'] = 'FRI11'\n",
        "df.loc[df['DEP'] == '33', 'DEP'] = 'FRI12'\n",
        "df.loc[df['DEP'] == '40', 'DEP'] = 'FRI13'\n",
        "df.loc[df['DEP'] == '47', 'DEP'] = 'FRI14'\n",
        "df.loc[df['DEP'] == '64', 'DEP'] = 'FRI15'\n",
        "\n",
        "df.loc[df['DEP'] == '09', 'DEP'] = 'FRJ21'\n",
        "df.loc[df['DEP'] == '12', 'DEP'] = 'FRJ22'\n",
        "df.loc[df['DEP'] == '31', 'DEP'] = 'FRJ23'\n",
        "df.loc[df['DEP'] == '32', 'DEP'] = 'FRJ24'\n",
        "df.loc[df['DEP'] == '46', 'DEP'] = 'FRJ25'\n",
        "df.loc[df['DEP'] == '65', 'DEP'] = 'FRJ26'\n",
        "df.loc[df['DEP'] == '81', 'DEP'] = 'FRJ27'\n",
        "df.loc[df['DEP'] == '82', 'DEP'] = 'FRJ28'\n",
        "\n",
        "df.loc[df['DEP'] == '19', 'DEP'] = 'FRI21'\n",
        "df.loc[df['DEP'] == '23', 'DEP'] = 'FRI22'\n",
        "df.loc[df['DEP'] == '87', 'DEP'] = 'FRI23'\n",
        "\n",
        "df.loc[df['DEP'] == '01', 'DEP'] = 'FRK21'\n",
        "df.loc[df['DEP'] == '07', 'DEP'] = 'FRK22'\n",
        "df.loc[df['DEP'] == '26', 'DEP'] = 'FRK23'\n",
        "df.loc[df['DEP'] == '38', 'DEP'] = 'FRK24'\n",
        "df.loc[df['DEP'] == '42', 'DEP'] = 'FRK25'\n",
        "df.loc[df['DEP'] == '69', 'DEP'] = 'FRK26'\n",
        "df.loc[df['DEP'] == '73', 'DEP'] = 'FRK27'\n",
        "df.loc[df['DEP'] == '74', 'DEP'] = 'FRK28'\n",
        "\n",
        "df.loc[df['DEP'] == '03', 'DEP'] = 'FRK11'\n",
        "df.loc[df['DEP'] == '15', 'DEP'] = 'FRK12'\n",
        "df.loc[df['DEP'] == '43', 'DEP'] = 'FRK13'\n",
        "df.loc[df['DEP'] == '63', 'DEP'] = 'FRK14'\n",
        "\n",
        "df.loc[df['DEP'] == '11', 'DEP'] = 'FRJ11'\n",
        "df.loc[df['DEP'] == '30', 'DEP'] = 'FRJ12'\n",
        "df.loc[df['DEP'] == '34', 'DEP'] = 'FRJ13'\n",
        "df.loc[df['DEP'] == '48', 'DEP'] = 'FRJ14'\n",
        "df.loc[df['DEP'] == '66', 'DEP'] = 'FRJ15'\n",
        "\n",
        "df.loc[df['DEP'] == '04', 'DEP'] = 'FRL01'\n",
        "df.loc[df['DEP'] == '05', 'DEP'] = 'FRL02'\n",
        "df.loc[df['DEP'] == '06', 'DEP'] = 'FRL03'\n",
        "df.loc[df['DEP'] == '13', 'DEP'] = 'FRL04'\n",
        "df.loc[df['DEP'] == '83', 'DEP'] = 'FRL05'\n",
        "df.loc[df['DEP'] == '84', 'DEP'] = 'FRL06'\n",
        "\n",
        "df.loc[df['DEP'] == '2A', 'DEP'] = 'FRM01'\n",
        "df.loc[df['DEP'] == '2B', 'DEP'] = 'FRM02'\n",
        "\n"
      ],
      "metadata": {
        "id": "A5yq3byB5IiV"
      },
      "execution_count": null,
      "outputs": []
    },
    {
      "cell_type": "code",
      "source": [
        "df.loc[df['REGION'] == 'NR01', 'REGION'] = 'FRY1'\n",
        "df.loc[df['REGION'] == 'NR02', 'REGION'] = 'FRY2'\n",
        "df.loc[df['REGION'] == 'NR03', 'REGION'] = 'FRY3'\n",
        "df.loc[df['REGION'] == 'NR04', 'REGION'] = 'FRY4'\n",
        "df.loc[df['REGION'] == 'NR06', 'REGION'] = 'FRY5'\n",
        "df.loc[df['REGION'] == 'NR11', 'REGION'] = 'FR1'\n",
        "df.loc[df['REGION'] == 'NR24', 'REGION'] = 'FRB'\n",
        "df.loc[df['REGION'] == 'NR27', 'REGION'] = 'FRC'\n",
        "df.loc[df['REGION'] == 'NR28', 'REGION'] = 'FRD'\n",
        "df.loc[df['REGION'] == 'NR32', 'REGION'] = 'FRE'\n",
        "df.loc[df['REGION'] == 'NR44', 'REGION'] = 'FRF'\n",
        "df.loc[df['REGION'] == 'NR52', 'REGION'] = 'FRG'\n",
        "df.loc[df['REGION'] == 'NR53', 'REGION'] = 'FRH'\n",
        "df.loc[df['REGION'] == 'NR75', 'REGION'] = 'FRI'\n",
        "df.loc[df['REGION'] == 'NR76', 'REGION'] = 'FRJ'\n",
        "df.loc[df['REGION'] == 'NR84', 'REGION'] = 'FRK'\n",
        "df.loc[df['REGION'] == 'NR93', 'REGION'] = 'FRL'\n",
        "df.loc[df['REGION'] == 'NR94', 'REGION'] = 'FRM'"
      ],
      "metadata": {
        "id": "2qM7AdScmGik"
      },
      "execution_count": null,
      "outputs": []
    },
    {
      "cell_type": "code",
      "source": [
        "#get data from culture and rendement\n",
        "df_pr_tem=df[(df.N306_MOD=='culture numero')&(df.N027_MOD==70.02)]"
      ],
      "metadata": {
        "id": "AwLcvzrQmQbf"
      },
      "execution_count": null,
      "outputs": []
    },
    {
      "cell_type": "code",
      "source": [
        "pip install reverse_geocoder"
      ],
      "metadata": {
        "colab": {
          "base_uri": "https://localhost:8080/"
        },
        "id": "H5ovQ8ibMNC5",
        "outputId": "ec5e5cec-5986-4ea7-ca51-a0ffe542b78e"
      },
      "execution_count": 12,
      "outputs": [
        {
          "output_type": "stream",
          "name": "stdout",
          "text": [
            "Requirement already satisfied: reverse_geocoder in /usr/local/lib/python3.10/dist-packages (1.5.1)\n",
            "Requirement already satisfied: numpy>=1.11.0 in /usr/local/lib/python3.10/dist-packages (from reverse_geocoder) (1.22.4)\n",
            "Requirement already satisfied: scipy>=0.17.1 in /usr/local/lib/python3.10/dist-packages (from reverse_geocoder) (1.10.1)\n"
          ]
        }
      ]
    },
    {
      "cell_type": "code",
      "source": [
        "#reverse geocoding\n",
        "\n",
        "# Python3 program for reverse geocoding.\n",
        "\n",
        "# importing necessary libraries\n",
        "import reverse_geocoder as rg\n",
        "import pprint\n",
        "\n",
        "def reverseGeocode(coordinates):\n",
        "  result = rg.search(coordinates)\n",
        "  # result is a list containing ordered dictionary.\n",
        "  return result\n",
        ""
      ],
      "metadata": {
        "id": "8FDNkXVkmXTS"
      },
      "execution_count": 52,
      "outputs": []
    },
    {
      "cell_type": "code",
      "source": [
        "# Coordinates tuple.Can contain more than one pair.\n",
        "coordinates =(48.788468, 2.429216)\n",
        "\n",
        "res_loc=reverseGeocode(coordinates)\n",
        "res_loc\n"
      ],
      "metadata": {
        "colab": {
          "base_uri": "https://localhost:8080/"
        },
        "id": "V12L2hv4JjE9",
        "outputId": "3ba953a5-9017-43eb-b5af-cbe31309c67e"
      },
      "execution_count": 58,
      "outputs": [
        {
          "output_type": "execute_result",
          "data": {
            "text/plain": [
              "[{'lat': '48.80575',\n",
              "  'lon': '2.4204',\n",
              "  'name': 'Alfortville',\n",
              "  'admin1': 'Ile-de-France',\n",
              "  'admin2': 'Departement du Val-de-Marne',\n",
              "  'cc': 'FR'}]"
            ]
          },
          "metadata": {},
          "execution_count": 58
        }
      ]
    },
    {
      "cell_type": "code",
      "source": [
        "#get the name of department and region\n",
        "dep=res_loc[0][\"admin2\"].split()[-1]\n",
        "region=res_loc[0][\"admin1\"]"
      ],
      "metadata": {
        "id": "5V8rT2LHJtji"
      },
      "execution_count": 60,
      "outputs": []
    },
    {
      "cell_type": "code",
      "source": [],
      "metadata": {
        "id": "c65Dw6KkSSp8"
      },
      "execution_count": null,
      "outputs": []
    }
  ]
}