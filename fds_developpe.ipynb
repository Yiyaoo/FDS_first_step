{
  "nbformat": 4,
  "nbformat_minor": 0,
  "metadata": {
    "colab": {
      "provenance": [],
      "authorship_tag": "ABX9TyMH08KhbruuKww3dL2iU42y",
      "include_colab_link": true
    },
    "kernelspec": {
      "name": "python3",
      "display_name": "Python 3"
    },
    "language_info": {
      "name": "python"
    }
  },
  "cells": [
    {
      "cell_type": "markdown",
      "metadata": {
        "id": "view-in-github",
        "colab_type": "text"
      },
      "source": [
        "<a href=\"https://colab.research.google.com/github/Yiyaoo/FDS_first_step/blob/master/fds_developpe.ipynb\" target=\"_parent\"><img src=\"https://colab.research.google.com/assets/colab-badge.svg\" alt=\"Open In Colab\"/></a>"
      ]
    },
    {
      "cell_type": "code",
      "execution_count": 3,
      "metadata": {
        "id": "NTS9Pz_xTEaS"
      },
      "outputs": [],
      "source": [
        "import pandas as pd\n",
        "import numpy as np\n",
        "import io\n",
        "import glob\n",
        "import requests"
      ]
    },
    {
      "cell_type": "code",
      "source": [
        "#read multiples files from github\n",
        "\n",
        "def read_multi_csv(start_year,end_year):\n",
        "    years = list(range(start_year,end_year+1))\n",
        "    dfs = []\n",
        "    for YYYY in years:\n",
        "        file = 'https://raw.githubusercontent.com/Yiyaoo/FDS_first_step/master/FDS_Developpe/FDS_DEVELOPPE_'+str(YYYY)+'.csv'\n",
        "        #print (file)\n",
        "        df = pd.read_csv(file,sep=';')\n",
        "        dfs.append(df)\n",
        "    all_dfs = pd.concat(dfs)\n",
        "    return all_dfs\n",
        "\n",
        "df=read_multi_csv(2000,2020)\n",
        "\n"
      ],
      "metadata": {
        "id": "5WDpPxrbURWx"
      },
      "execution_count": 4,
      "outputs": []
    },
    {
      "cell_type": "code",
      "source": [
        "#rendement ble dur hiver\n",
        "df_bdh_tem=df[(df.N306_MOD=='1.11.1.12.1')&(df.N027_MOD==70.01)]\n"
      ],
      "metadata": {
        "id": "GkvN3ML0URb_"
      },
      "execution_count": 20,
      "outputs": []
    },
    {
      "cell_type": "code",
      "source": [
        "#rendementble dur printemps\n",
        "df_bdp_tem=df[(df.N306_MOD=='1.11.1.11.1')&(df.N027_MOD==70.01)]\n"
      ],
      "metadata": {
        "id": "bsiQ_ZNWUlPo"
      },
      "execution_count": 21,
      "outputs": []
    },
    {
      "cell_type": "code",
      "source": [
        "df_bdh_tem.DEP.unique()"
      ],
      "metadata": {
        "colab": {
          "base_uri": "https://localhost:8080/"
        },
        "id": "zI15hjXzPoee",
        "outputId": "dc6390ec-8d2a-485d-88fd-36767a74a63f"
      },
      "execution_count": null,
      "outputs": [
        {
          "output_type": "execute_result",
          "data": {
            "text/plain": [
              "array(['...', '78', '91', '18', '28', '36', '37', '41', '45', '58', '61',\n",
              "       '44', '49', '72', '85', '16', '17', '33', '40', '47', '79', '86',\n",
              "       '09', '11', '12', '30', '31', '32', '34', '46', '65', '66', '81',\n",
              "       '82', '07', '26', '38', '42', '69', '04', '05', '06', '13', '83',\n",
              "       '84', '2B', '10', '53', '24', '64', '77', '93', '95', '21', '71',\n",
              "       '89', '02', '60', '80', '08', '51', '52', 'Ain', '73', '74', '27',\n",
              "       '48', '76', '14', '50', '57', '88', '54', '55', '59', '62', '03',\n",
              "       '63', '25', '39', '70', '90', '19', '23', '87', '22', '29', '35',\n",
              "       '56', '67', '68'], dtype=object)"
            ]
          },
          "metadata": {},
          "execution_count": 28
        }
      ]
    },
    {
      "cell_type": "code",
      "source": [
        "df.loc[df['DEP'] == '75', 'DEP'] = 'FR101'\n",
        "df.loc[df['DEP'] == '77', 'DEP'] = 'FR102'\n",
        "df.loc[df['DEP'] == '78', 'DEP'] = 'FR103'\n",
        "df.loc[df['DEP'] == '91', 'DEP'] = 'FR104'\n",
        "df.loc[df['DEP'] == '92', 'DEP'] = 'FR105'\n",
        "df.loc[df['DEP'] == '93', 'DEP'] = 'FR106'\n",
        "df.loc[df['DEP'] == '94', 'DEP'] = 'FR107'\n",
        "df.loc[df['DEP'] == '95', 'DEP'] = 'FR108'"
      ],
      "metadata": {
        "id": "nv9dziG3fRgE"
      },
      "execution_count": 5,
      "outputs": []
    },
    {
      "cell_type": "code",
      "source": [
        "df.loc[df['DEP'] == '08', 'DEP'] = 'FRF21'\n",
        "df.loc[df['DEP'] == '10', 'DEP'] = 'FRF22'\n",
        "df.loc[df['DEP'] == '51', 'DEP'] = 'FRF23'\n",
        "df.loc[df['DEP'] == '52', 'DEP'] = 'FRF24'\n",
        "\n",
        "df.loc[df['DEP'] == '02', 'DEP'] = 'FRE21'\n",
        "df.loc[df['DEP'] == '60', 'DEP'] = 'FRE22'\n",
        "df.loc[df['DEP'] == '80', 'DEP'] = 'FRE23'\n",
        "\n",
        "df.loc[df['DEP'] == '27', 'DEP'] = 'FRD21 '\n",
        "df.loc[df['DEP'] == '76', 'DEP'] = 'FRD22'\n",
        "\n",
        "df.loc[df['DEP'] == '18', 'DEP'] = 'FRB01'\n",
        "df.loc[df['DEP'] == '28', 'DEP'] = 'FRB02'\n",
        "df.loc[df['DEP'] == '36', 'DEP'] = 'FRB03'\n",
        "df.loc[df['DEP'] == '37', 'DEP'] = 'FRB04'\n",
        "df.loc[df['DEP'] == '41', 'DEP'] = 'FRB05'\n",
        "df.loc[df['DEP'] == '45', 'DEP'] = 'FRB06'\n",
        "\n",
        "df.loc[df['DEP'] == '14', 'DEP'] = 'FRD11'\n",
        "df.loc[df['DEP'] == '50', 'DEP'] = 'FRD12'\n",
        "df.loc[df['DEP'] == '61', 'DEP'] = 'FRD13'\n",
        "\n",
        "df.loc[df['DEP'] == '21', 'DEP'] = 'FRC11'\n",
        "df.loc[df['DEP'] == '58', 'DEP'] = 'FRC12'\n",
        "df.loc[df['DEP'] == '71', 'DEP'] = 'FRC13'\n",
        "df.loc[df['DEP'] == '89', 'DEP'] = 'FRC14'"
      ],
      "metadata": {
        "id": "sxfz3pslMi3k"
      },
      "execution_count": 6,
      "outputs": []
    },
    {
      "cell_type": "code",
      "source": [
        "df.loc[df['DEP'] == '59', 'DEP'] = 'FRE11'\n",
        "df.loc[df['DEP'] == '62', 'DEP'] = 'FRE12'"
      ],
      "metadata": {
        "id": "t-yrrnsDTYjK"
      },
      "execution_count": 7,
      "outputs": []
    },
    {
      "cell_type": "code",
      "source": [
        "df.loc[df['DEP'] == '54', 'DEP'] = 'FRF31'\n",
        "df.loc[df['DEP'] == '55', 'DEP'] = 'FRF32'\n",
        "df.loc[df['DEP'] == '57', 'DEP'] = 'FRF33'\n",
        "df.loc[df['DEP'] == '88', 'DEP'] = 'FRF34'\n",
        "\n",
        "df.loc[df['DEP'] == '67', 'DEP'] = 'FRF11'\n",
        "df.loc[df['DEP'] == '68', 'DEP'] = 'FRF12'\n",
        "\n",
        "df.loc[df['DEP'] == '25', 'DEP'] = 'FRC21'\n",
        "df.loc[df['DEP'] == '39', 'DEP'] = 'FRC22'\n",
        "df.loc[df['DEP'] == '70', 'DEP'] = 'FRC23'\n",
        "df.loc[df['DEP'] == '90', 'DEP'] = 'FRC24'"
      ],
      "metadata": {
        "id": "yzhIi3ElZfQU"
      },
      "execution_count": 8,
      "outputs": []
    },
    {
      "cell_type": "code",
      "source": [
        "df.loc[df['DEP'] == '44', 'DEP'] = 'FRG01'\n",
        "df.loc[df['DEP'] == '49', 'DEP'] = 'FRG02'\n",
        "df.loc[df['DEP'] == '53', 'DEP'] = 'FRG03'\n",
        "df.loc[df['DEP'] == '72', 'DEP'] = 'FRG04'\n",
        "df.loc[df['DEP'] == '85', 'DEP'] = 'FRG05'\n",
        "\n",
        "\n",
        "df.loc[df['DEP'] == '22', 'DEP'] = 'FRH01'\n",
        "df.loc[df['DEP'] == '29', 'DEP'] = 'FRH02'\n",
        "df.loc[df['DEP'] == '35', 'DEP'] = 'FRH03'\n",
        "df.loc[df['DEP'] == '56', 'DEP'] = 'FRH04'\n",
        "\n",
        "df.loc[df['DEP'] == '16', 'DEP'] = 'FRI31'\n",
        "df.loc[df['DEP'] == '17', 'DEP'] = 'FRI32'\n",
        "df.loc[df['DEP'] == '79', 'DEP'] = 'FRI33'\n",
        "df.loc[df['DEP'] == '86', 'DEP'] = 'FRI34'\n"
      ],
      "metadata": {
        "id": "szCOxGDxZfxC"
      },
      "execution_count": 9,
      "outputs": []
    },
    {
      "cell_type": "code",
      "source": [
        "df.loc[df['DEP'] == '24', 'DEP'] = 'FRI11'\n",
        "df.loc[df['DEP'] == '33', 'DEP'] = 'FRI12'\n",
        "df.loc[df['DEP'] == '40', 'DEP'] = 'FRI13'\n",
        "df.loc[df['DEP'] == '47', 'DEP'] = 'FRI14'\n",
        "df.loc[df['DEP'] == '64', 'DEP'] = 'FRI15'\n",
        "\n",
        "df.loc[df['DEP'] == '09', 'DEP'] = 'FRJ21'\n",
        "df.loc[df['DEP'] == '12', 'DEP'] = 'FRJ22'\n",
        "df.loc[df['DEP'] == '31', 'DEP'] = 'FRJ23'\n",
        "df.loc[df['DEP'] == '32', 'DEP'] = 'FRJ24'\n",
        "df.loc[df['DEP'] == '46', 'DEP'] = 'FRJ25'\n",
        "df.loc[df['DEP'] == '65', 'DEP'] = 'FRJ26'\n",
        "df.loc[df['DEP'] == '81', 'DEP'] = 'FRJ27'\n",
        "df.loc[df['DEP'] == '82', 'DEP'] = 'FRJ28'\n",
        "\n",
        "df.loc[df['DEP'] == '19', 'DEP'] = 'FRI21'\n",
        "df.loc[df['DEP'] == '23', 'DEP'] = 'FRI22'\n",
        "df.loc[df['DEP'] == '87', 'DEP'] = 'FRI23'"
      ],
      "metadata": {
        "id": "LvV3IRYAarz8"
      },
      "execution_count": 10,
      "outputs": []
    },
    {
      "cell_type": "code",
      "source": [
        "df.loc[df['DEP'] == '01', 'DEP'] = 'FRK21'\n",
        "df.loc[df['DEP'] == '07', 'DEP'] = 'FRK22'\n",
        "df.loc[df['DEP'] == '26', 'DEP'] = 'FRK23'\n",
        "df.loc[df['DEP'] == '38', 'DEP'] = 'FRK24'\n",
        "df.loc[df['DEP'] == '42', 'DEP'] = 'FRK25'\n",
        "df.loc[df['DEP'] == '69', 'DEP'] = 'FRK26'\n",
        "df.loc[df['DEP'] == '73', 'DEP'] = 'FRK27'\n",
        "df.loc[df['DEP'] == '74', 'DEP'] = 'FRK28'\n",
        "\n",
        "df.loc[df['DEP'] == '03', 'DEP'] = 'FRK11'\n",
        "df.loc[df['DEP'] == '15', 'DEP'] = 'FRK12'\n",
        "df.loc[df['DEP'] == '43', 'DEP'] = 'FRK13'\n",
        "df.loc[df['DEP'] == '63', 'DEP'] = 'FRK14'\n"
      ],
      "metadata": {
        "id": "Cr1fintYbuiG"
      },
      "execution_count": 11,
      "outputs": []
    },
    {
      "cell_type": "code",
      "source": [
        "df.loc[df['DEP'] == '11', 'DEP'] = 'FRJ11'\n",
        "df.loc[df['DEP'] == '30', 'DEP'] = 'FRJ12'\n",
        "df.loc[df['DEP'] == '34', 'DEP'] = 'FRJ13'\n",
        "df.loc[df['DEP'] == '48', 'DEP'] = 'FRJ14'\n",
        "df.loc[df['DEP'] == '66', 'DEP'] = 'FRJ15'\n",
        "\n",
        "df.loc[df['DEP'] == '04', 'DEP'] = 'FRL01'\n",
        "df.loc[df['DEP'] == '05', 'DEP'] = 'FRL02'\n",
        "df.loc[df['DEP'] == '06', 'DEP'] = 'FRL03'\n",
        "df.loc[df['DEP'] == '13', 'DEP'] = 'FRL04'\n",
        "df.loc[df['DEP'] == '83', 'DEP'] = 'FRL05'\n",
        "df.loc[df['DEP'] == '84', 'DEP'] = 'FRL06'\n",
        "\n",
        "df.loc[df['DEP'] == '2A', 'DEP'] = 'FRM01'\n",
        "df.loc[df['DEP'] == '2B', 'DEP'] = 'FRM02'"
      ],
      "metadata": {
        "id": "3JmRUW9YbgUA"
      },
      "execution_count": 12,
      "outputs": []
    },
    {
      "cell_type": "code",
      "source": [
        "df.REGION.unique()"
      ],
      "metadata": {
        "colab": {
          "base_uri": "https://localhost:8080/"
        },
        "id": "uaxeZ9ROavUr",
        "outputId": "33d078cf-5f2a-421b-c35b-20f47fd8bcbc"
      },
      "execution_count": 15,
      "outputs": [
        {
          "output_type": "execute_result",
          "data": {
            "text/plain": [
              "array(['...', 'FRY1', 'FRY2', 'FRY3', 'FRY4', 'FR1', 'FRB', 'FRC', 'FRD',\n",
              "       'FRE', 'FRF', 'FRG', 'FRH', 'FRI', 'FRJ', 'FRK', 'FRL', 'FRM',\n",
              "       'FRY5'], dtype=object)"
            ]
          },
          "metadata": {},
          "execution_count": 15
        }
      ]
    },
    {
      "cell_type": "code",
      "source": [
        "df.loc[df['REGION'] == 'NR01', 'REGION'] = 'FRY1'\n",
        "df.loc[df['REGION'] == 'NR02', 'REGION'] = 'FRY2'\n",
        "df.loc[df['REGION'] == 'NR03', 'REGION'] = 'FRY3'\n",
        "df.loc[df['REGION'] == 'NR04', 'REGION'] = 'FRY4'\n",
        "df.loc[df['REGION'] == 'NR06', 'REGION'] = 'FRY5'\n",
        "df.loc[df['REGION'] == 'NR11', 'REGION'] = 'FR1'\n",
        "df.loc[df['REGION'] == 'NR24', 'REGION'] = 'FRB'\n",
        "df.loc[df['REGION'] == 'NR27', 'REGION'] = 'FRC'\n",
        "df.loc[df['REGION'] == 'NR28', 'REGION'] = 'FRD'\n",
        "df.loc[df['REGION'] == 'NR32', 'REGION'] = 'FRE'\n",
        "df.loc[df['REGION'] == 'NR44', 'REGION'] = 'FRF'\n",
        "df.loc[df['REGION'] == 'NR52', 'REGION'] = 'FRG'\n",
        "df.loc[df['REGION'] == 'NR53', 'REGION'] = 'FRH'\n",
        "df.loc[df['REGION'] == 'NR75', 'REGION'] = 'FRI'\n",
        "df.loc[df['REGION'] == 'NR76', 'REGION'] = 'FRJ'\n",
        "df.loc[df['REGION'] == 'NR84', 'REGION'] = 'FRK'\n",
        "df.loc[df['REGION'] == 'NR93', 'REGION'] = 'FRL'\n",
        "df.loc[df['REGION'] == 'NR94', 'REGION'] = 'FRM'"
      ],
      "metadata": {
        "id": "ZLauBLZ2bcei"
      },
      "execution_count": 14,
      "outputs": []
    },
    {
      "cell_type": "code",
      "source": [],
      "metadata": {
        "id": "-9qF_sBkeKip"
      },
      "execution_count": null,
      "outputs": []
    },
    {
      "cell_type": "code",
      "source": [],
      "metadata": {
        "id": "-CrASHt9e2bz"
      },
      "execution_count": null,
      "outputs": []
    }
  ]
}